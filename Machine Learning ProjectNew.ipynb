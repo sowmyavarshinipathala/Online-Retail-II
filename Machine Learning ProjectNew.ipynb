{
 "cells": [
  {
   "cell_type": "code",
   "execution_count": 1,
   "id": "c0678b0f",
   "metadata": {},
   "outputs": [],
   "source": [
    "# import necessary libraries\n",
    "import pandas as pd\n",
    "import numpy as np\n"
   ]
  },
  {
   "cell_type": "code",
   "execution_count": 2,
   "id": "2093d873",
   "metadata": {},
   "outputs": [],
   "source": [
    "# loading the dataset from excel file to pandas DataFrame\n",
    "df=pd.read_excel(\"online_retail_II (1).xlsx\")                           "
   ]
  },
  {
   "cell_type": "code",
   "execution_count": 3,
   "id": "8f35d3d0",
   "metadata": {},
   "outputs": [
    {
     "data": {
      "text/html": [
       "<div>\n",
       "<style scoped>\n",
       "    .dataframe tbody tr th:only-of-type {\n",
       "        vertical-align: middle;\n",
       "    }\n",
       "\n",
       "    .dataframe tbody tr th {\n",
       "        vertical-align: top;\n",
       "    }\n",
       "\n",
       "    .dataframe thead th {\n",
       "        text-align: right;\n",
       "    }\n",
       "</style>\n",
       "<table border=\"1\" class=\"dataframe\">\n",
       "  <thead>\n",
       "    <tr style=\"text-align: right;\">\n",
       "      <th></th>\n",
       "      <th>Invoice</th>\n",
       "      <th>StockCode</th>\n",
       "      <th>Description</th>\n",
       "      <th>Quantity</th>\n",
       "      <th>InvoiceDate</th>\n",
       "      <th>Price</th>\n",
       "      <th>Customer ID</th>\n",
       "      <th>Country</th>\n",
       "    </tr>\n",
       "  </thead>\n",
       "  <tbody>\n",
       "    <tr>\n",
       "      <th>0</th>\n",
       "      <td>489434</td>\n",
       "      <td>85048</td>\n",
       "      <td>15CM CHRISTMAS GLASS BALL 20 LIGHTS</td>\n",
       "      <td>12</td>\n",
       "      <td>2009-12-01 07:45:00</td>\n",
       "      <td>6.95</td>\n",
       "      <td>13085.0</td>\n",
       "      <td>United Kingdom</td>\n",
       "    </tr>\n",
       "    <tr>\n",
       "      <th>1</th>\n",
       "      <td>489434</td>\n",
       "      <td>79323P</td>\n",
       "      <td>PINK CHERRY LIGHTS</td>\n",
       "      <td>12</td>\n",
       "      <td>2009-12-01 07:45:00</td>\n",
       "      <td>6.75</td>\n",
       "      <td>13085.0</td>\n",
       "      <td>United Kingdom</td>\n",
       "    </tr>\n",
       "    <tr>\n",
       "      <th>2</th>\n",
       "      <td>489434</td>\n",
       "      <td>79323W</td>\n",
       "      <td>WHITE CHERRY LIGHTS</td>\n",
       "      <td>12</td>\n",
       "      <td>2009-12-01 07:45:00</td>\n",
       "      <td>6.75</td>\n",
       "      <td>13085.0</td>\n",
       "      <td>United Kingdom</td>\n",
       "    </tr>\n",
       "    <tr>\n",
       "      <th>3</th>\n",
       "      <td>489434</td>\n",
       "      <td>22041</td>\n",
       "      <td>RECORD FRAME 7\" SINGLE SIZE</td>\n",
       "      <td>48</td>\n",
       "      <td>2009-12-01 07:45:00</td>\n",
       "      <td>2.10</td>\n",
       "      <td>13085.0</td>\n",
       "      <td>United Kingdom</td>\n",
       "    </tr>\n",
       "    <tr>\n",
       "      <th>4</th>\n",
       "      <td>489434</td>\n",
       "      <td>21232</td>\n",
       "      <td>STRAWBERRY CERAMIC TRINKET BOX</td>\n",
       "      <td>24</td>\n",
       "      <td>2009-12-01 07:45:00</td>\n",
       "      <td>1.25</td>\n",
       "      <td>13085.0</td>\n",
       "      <td>United Kingdom</td>\n",
       "    </tr>\n",
       "  </tbody>\n",
       "</table>\n",
       "</div>"
      ],
      "text/plain": [
       "  Invoice StockCode                          Description  Quantity  \\\n",
       "0  489434     85048  15CM CHRISTMAS GLASS BALL 20 LIGHTS        12   \n",
       "1  489434    79323P                   PINK CHERRY LIGHTS        12   \n",
       "2  489434    79323W                  WHITE CHERRY LIGHTS        12   \n",
       "3  489434     22041         RECORD FRAME 7\" SINGLE SIZE         48   \n",
       "4  489434     21232       STRAWBERRY CERAMIC TRINKET BOX        24   \n",
       "\n",
       "          InvoiceDate  Price  Customer ID         Country  \n",
       "0 2009-12-01 07:45:00   6.95      13085.0  United Kingdom  \n",
       "1 2009-12-01 07:45:00   6.75      13085.0  United Kingdom  \n",
       "2 2009-12-01 07:45:00   6.75      13085.0  United Kingdom  \n",
       "3 2009-12-01 07:45:00   2.10      13085.0  United Kingdom  \n",
       "4 2009-12-01 07:45:00   1.25      13085.0  United Kingdom  "
      ]
     },
     "execution_count": 3,
     "metadata": {},
     "output_type": "execute_result"
    }
   ],
   "source": [
    "# first 5 rows of the dataframe\n",
    "df.head()"
   ]
  },
  {
   "cell_type": "code",
   "execution_count": 4,
   "id": "d1d5bb2b",
   "metadata": {},
   "outputs": [
    {
     "data": {
      "text/plain": [
       "(525461, 8)"
      ]
     },
     "execution_count": 4,
     "metadata": {},
     "output_type": "execute_result"
    }
   ],
   "source": [
    "# number of data points & number of features\n",
    "df.shape"
   ]
  },
  {
   "cell_type": "code",
   "execution_count": 5,
   "id": "2849306e",
   "metadata": {
    "scrolled": true
   },
   "outputs": [
    {
     "data": {
      "text/html": [
       "<div>\n",
       "<style scoped>\n",
       "    .dataframe tbody tr th:only-of-type {\n",
       "        vertical-align: middle;\n",
       "    }\n",
       "\n",
       "    .dataframe tbody tr th {\n",
       "        vertical-align: top;\n",
       "    }\n",
       "\n",
       "    .dataframe thead th {\n",
       "        text-align: right;\n",
       "    }\n",
       "</style>\n",
       "<table border=\"1\" class=\"dataframe\">\n",
       "  <thead>\n",
       "    <tr style=\"text-align: right;\">\n",
       "      <th></th>\n",
       "      <th>Invoice</th>\n",
       "      <th>StockCode</th>\n",
       "      <th>Description</th>\n",
       "      <th>Quantity</th>\n",
       "      <th>Price</th>\n",
       "      <th>Customer ID</th>\n",
       "      <th>Country</th>\n",
       "    </tr>\n",
       "  </thead>\n",
       "  <tbody>\n",
       "    <tr>\n",
       "      <th>0</th>\n",
       "      <td>489434</td>\n",
       "      <td>85048</td>\n",
       "      <td>15CM CHRISTMAS GLASS BALL 20 LIGHTS</td>\n",
       "      <td>12</td>\n",
       "      <td>6.95</td>\n",
       "      <td>13085.0</td>\n",
       "      <td>United Kingdom</td>\n",
       "    </tr>\n",
       "    <tr>\n",
       "      <th>1</th>\n",
       "      <td>489434</td>\n",
       "      <td>79323P</td>\n",
       "      <td>PINK CHERRY LIGHTS</td>\n",
       "      <td>12</td>\n",
       "      <td>6.75</td>\n",
       "      <td>13085.0</td>\n",
       "      <td>United Kingdom</td>\n",
       "    </tr>\n",
       "    <tr>\n",
       "      <th>2</th>\n",
       "      <td>489434</td>\n",
       "      <td>79323W</td>\n",
       "      <td>WHITE CHERRY LIGHTS</td>\n",
       "      <td>12</td>\n",
       "      <td>6.75</td>\n",
       "      <td>13085.0</td>\n",
       "      <td>United Kingdom</td>\n",
       "    </tr>\n",
       "    <tr>\n",
       "      <th>3</th>\n",
       "      <td>489434</td>\n",
       "      <td>22041</td>\n",
       "      <td>RECORD FRAME 7\" SINGLE SIZE</td>\n",
       "      <td>48</td>\n",
       "      <td>2.10</td>\n",
       "      <td>13085.0</td>\n",
       "      <td>United Kingdom</td>\n",
       "    </tr>\n",
       "    <tr>\n",
       "      <th>4</th>\n",
       "      <td>489434</td>\n",
       "      <td>21232</td>\n",
       "      <td>STRAWBERRY CERAMIC TRINKET BOX</td>\n",
       "      <td>24</td>\n",
       "      <td>1.25</td>\n",
       "      <td>13085.0</td>\n",
       "      <td>United Kingdom</td>\n",
       "    </tr>\n",
       "    <tr>\n",
       "      <th>...</th>\n",
       "      <td>...</td>\n",
       "      <td>...</td>\n",
       "      <td>...</td>\n",
       "      <td>...</td>\n",
       "      <td>...</td>\n",
       "      <td>...</td>\n",
       "      <td>...</td>\n",
       "    </tr>\n",
       "    <tr>\n",
       "      <th>525456</th>\n",
       "      <td>538171</td>\n",
       "      <td>22271</td>\n",
       "      <td>FELTCRAFT DOLL ROSIE</td>\n",
       "      <td>2</td>\n",
       "      <td>2.95</td>\n",
       "      <td>17530.0</td>\n",
       "      <td>United Kingdom</td>\n",
       "    </tr>\n",
       "    <tr>\n",
       "      <th>525457</th>\n",
       "      <td>538171</td>\n",
       "      <td>22750</td>\n",
       "      <td>FELTCRAFT PRINCESS LOLA DOLL</td>\n",
       "      <td>1</td>\n",
       "      <td>3.75</td>\n",
       "      <td>17530.0</td>\n",
       "      <td>United Kingdom</td>\n",
       "    </tr>\n",
       "    <tr>\n",
       "      <th>525458</th>\n",
       "      <td>538171</td>\n",
       "      <td>22751</td>\n",
       "      <td>FELTCRAFT PRINCESS OLIVIA DOLL</td>\n",
       "      <td>1</td>\n",
       "      <td>3.75</td>\n",
       "      <td>17530.0</td>\n",
       "      <td>United Kingdom</td>\n",
       "    </tr>\n",
       "    <tr>\n",
       "      <th>525459</th>\n",
       "      <td>538171</td>\n",
       "      <td>20970</td>\n",
       "      <td>PINK FLORAL FELTCRAFT SHOULDER BAG</td>\n",
       "      <td>2</td>\n",
       "      <td>3.75</td>\n",
       "      <td>17530.0</td>\n",
       "      <td>United Kingdom</td>\n",
       "    </tr>\n",
       "    <tr>\n",
       "      <th>525460</th>\n",
       "      <td>538171</td>\n",
       "      <td>21931</td>\n",
       "      <td>JUMBO STORAGE BAG SUKI</td>\n",
       "      <td>2</td>\n",
       "      <td>1.95</td>\n",
       "      <td>17530.0</td>\n",
       "      <td>United Kingdom</td>\n",
       "    </tr>\n",
       "  </tbody>\n",
       "</table>\n",
       "<p>525461 rows × 7 columns</p>\n",
       "</div>"
      ],
      "text/plain": [
       "       Invoice StockCode                          Description  Quantity  \\\n",
       "0       489434     85048  15CM CHRISTMAS GLASS BALL 20 LIGHTS        12   \n",
       "1       489434    79323P                   PINK CHERRY LIGHTS        12   \n",
       "2       489434    79323W                  WHITE CHERRY LIGHTS        12   \n",
       "3       489434     22041         RECORD FRAME 7\" SINGLE SIZE         48   \n",
       "4       489434     21232       STRAWBERRY CERAMIC TRINKET BOX        24   \n",
       "...        ...       ...                                  ...       ...   \n",
       "525456  538171     22271                 FELTCRAFT DOLL ROSIE         2   \n",
       "525457  538171     22750         FELTCRAFT PRINCESS LOLA DOLL         1   \n",
       "525458  538171     22751       FELTCRAFT PRINCESS OLIVIA DOLL         1   \n",
       "525459  538171     20970   PINK FLORAL FELTCRAFT SHOULDER BAG         2   \n",
       "525460  538171     21931               JUMBO STORAGE BAG SUKI         2   \n",
       "\n",
       "        Price  Customer ID         Country  \n",
       "0        6.95      13085.0  United Kingdom  \n",
       "1        6.75      13085.0  United Kingdom  \n",
       "2        6.75      13085.0  United Kingdom  \n",
       "3        2.10      13085.0  United Kingdom  \n",
       "4        1.25      13085.0  United Kingdom  \n",
       "...       ...          ...             ...  \n",
       "525456   2.95      17530.0  United Kingdom  \n",
       "525457   3.75      17530.0  United Kingdom  \n",
       "525458   3.75      17530.0  United Kingdom  \n",
       "525459   3.75      17530.0  United Kingdom  \n",
       "525460   1.95      17530.0  United Kingdom  \n",
       "\n",
       "[525461 rows x 7 columns]"
      ]
     },
     "execution_count": 5,
     "metadata": {},
     "output_type": "execute_result"
    }
   ],
   "source": [
    "# getting some information about thye dataset\n",
    "df.drop(columns=['InvoiceDate'],axis=1)\n"
   ]
  },
  {
   "cell_type": "code",
   "execution_count": 6,
   "id": "98bf9217",
   "metadata": {
    "scrolled": false
   },
   "outputs": [
    {
     "name": "stdout",
     "output_type": "stream",
     "text": [
      "<class 'pandas.core.frame.DataFrame'>\n",
      "RangeIndex: 525461 entries, 0 to 525460\n",
      "Data columns (total 8 columns):\n",
      " #   Column       Non-Null Count   Dtype         \n",
      "---  ------       --------------   -----         \n",
      " 0   Invoice      525461 non-null  object        \n",
      " 1   StockCode    525461 non-null  object        \n",
      " 2   Description  522533 non-null  object        \n",
      " 3   Quantity     525461 non-null  int64         \n",
      " 4   InvoiceDate  525461 non-null  datetime64[ns]\n",
      " 5   Price        525461 non-null  float64       \n",
      " 6   Customer ID  417534 non-null  float64       \n",
      " 7   Country      525461 non-null  object        \n",
      "dtypes: datetime64[ns](1), float64(2), int64(1), object(4)\n",
      "memory usage: 32.1+ MB\n"
     ]
    }
   ],
   "source": [
    "df.info()"
   ]
  },
  {
   "cell_type": "code",
   "execution_count": 7,
   "id": "b5ee54fb",
   "metadata": {},
   "outputs": [
    {
     "data": {
      "text/plain": [
       "'Categorical Features:\\n   -Invoice\\n   -StockCode\\n   -Description\\n   -Country\\n   Numerical Features:\\n   -Quantity\\n   -Price \\n   -Customer ID\\n   -InvoiceDate   \\n   TimeStamp:\\n   -InvoiceDate'"
      ]
     },
     "execution_count": 7,
     "metadata": {},
     "output_type": "execute_result"
    }
   ],
   "source": [
    "'''Categorical Features:\n",
    "   -Invoice\n",
    "   -StockCode\n",
    "   -Description\n",
    "   -Country\n",
    "   Numerical Features:\n",
    "   -Quantity\n",
    "   -Price \n",
    "   -Customer ID\n",
    "   -InvoiceDate   \n",
    "   TimeStamp:\n",
    "   -InvoiceDate'''\n",
    "    "
   ]
  },
  {
   "cell_type": "code",
   "execution_count": 8,
   "id": "f213ab5f",
   "metadata": {},
   "outputs": [
    {
     "data": {
      "text/plain": [
       "Invoice             0\n",
       "StockCode           0\n",
       "Description      2928\n",
       "Quantity            0\n",
       "InvoiceDate         0\n",
       "Price               0\n",
       "Customer ID    107927\n",
       "Country             0\n",
       "dtype: int64"
      ]
     },
     "execution_count": 8,
     "metadata": {},
     "output_type": "execute_result"
    }
   ],
   "source": [
    "# checking for missing values\n",
    "df.isna().sum()"
   ]
  },
  {
   "cell_type": "markdown",
   "id": "12bb8d07",
   "metadata": {},
   "source": [
    "Handling Missing Values"
   ]
  },
  {
   "cell_type": "markdown",
   "id": "2db4324b",
   "metadata": {},
   "source": [
    "handling missing values in Customer ID"
   ]
  },
  {
   "cell_type": "code",
   "execution_count": 9,
   "id": "7843f319",
   "metadata": {},
   "outputs": [
    {
     "data": {
      "text/plain": [
       "15360.645477973052"
      ]
     },
     "execution_count": 9,
     "metadata": {},
     "output_type": "execute_result"
    }
   ],
   "source": [
    "df['Customer ID'].mean()"
   ]
  },
  {
   "cell_type": "code",
   "execution_count": 10,
   "id": "f9b0a976",
   "metadata": {},
   "outputs": [],
   "source": [
    "# filling the missing values in \"Item_weight column\" with \"Mean\" value\n",
    "df['Customer ID'].fillna(df['Customer ID'].mean(), inplace=True)\n"
   ]
  },
  {
   "cell_type": "code",
   "execution_count": 11,
   "id": "6cef8fb1",
   "metadata": {
    "scrolled": true
   },
   "outputs": [
    {
     "data": {
      "text/plain": [
       "Invoice           0\n",
       "StockCode         0\n",
       "Description    2928\n",
       "Quantity          0\n",
       "InvoiceDate       0\n",
       "Price             0\n",
       "Customer ID       0\n",
       "Country           0\n",
       "dtype: int64"
      ]
     },
     "execution_count": 11,
     "metadata": {},
     "output_type": "execute_result"
    }
   ],
   "source": [
    "df.isna().sum()\n"
   ]
  },
  {
   "cell_type": "markdown",
   "id": "c0fc33c2",
   "metadata": {},
   "source": [
    "handling missing values in Description"
   ]
  },
  {
   "cell_type": "code",
   "execution_count": 12,
   "id": "4cd14cee",
   "metadata": {},
   "outputs": [
    {
     "name": "stdout",
     "output_type": "stream",
     "text": [
      "0    0\n",
      "1    0\n",
      "2    0\n",
      "3    0\n",
      "4    0\n",
      "5    0\n",
      "6    0\n",
      "7    0\n",
      "dtype: int64\n"
     ]
    }
   ],
   "source": [
    "from sklearn.impute import SimpleImputer\n",
    "df=pd.DataFrame(SimpleImputer(strategy=\"most_frequent\").fit_transform(df))\n",
    "print(df.isna().sum())"
   ]
  },
  {
   "cell_type": "code",
   "execution_count": 13,
   "id": "b003f7ef",
   "metadata": {},
   "outputs": [],
   "source": [
    "#convert mixed data to string\n",
    "for i in [0,1,2]:\n",
    "    df[i] = df[i].astype(str)"
   ]
  },
  {
   "cell_type": "markdown",
   "id": "9046dae6",
   "metadata": {},
   "source": [
    "Feature Scaling"
   ]
  },
  {
   "cell_type": "markdown",
   "id": "9daa07eb",
   "metadata": {},
   "source": [
    "Apply LadelEncoding"
   ]
  },
  {
   "cell_type": "code",
   "execution_count": 14,
   "id": "35a383ac",
   "metadata": {},
   "outputs": [
    {
     "name": "stdout",
     "output_type": "stream",
     "text": [
      "   0     1     2   3  4     5        6   7\n",
      "0  0  3892    55  12  0  6.95  13085.0  37\n",
      "1  0  3052  2920  12  0  6.75  13085.0  37\n",
      "2  0  3054    27  12  0  6.75  13085.0  37\n",
      "3  0  1393  3236  48  0   2.1  13085.0  37\n",
      "4  0   708  4067  24  0  1.25  13085.0  37\n"
     ]
    }
   ],
   "source": [
    "from sklearn.preprocessing import LabelEncoder\n",
    "for i in [0,1,2,4,7]:    \n",
    "    df[i]=LabelEncoder().fit_transform(df[i])\n",
    "print(df.head()) \n"
   ]
  },
  {
   "cell_type": "code",
   "execution_count": 15,
   "id": "d8e4f856",
   "metadata": {},
   "outputs": [
    {
     "name": "stdout",
     "output_type": "stream",
     "text": [
      "(367822, 7) (367822,) (157639, 7) (157639,)\n"
     ]
    }
   ],
   "source": [
    "#spliting the data\n",
    "target=df[7]\n",
    "data = df.drop(columns=[7])\n",
    "from sklearn.model_selection import train_test_split\n",
    "xtrain,xtest,ytrain,ytest=train_test_split(data,target,test_size=0.3)\n",
    "print(xtrain.shape,ytrain.shape,xtest.shape,ytest.shape) "
   ]
  },
  {
   "cell_type": "markdown",
   "id": "229a60e2",
   "metadata": {},
   "source": [
    "Applying Standardisation"
   ]
  },
  {
   "cell_type": "code",
   "execution_count": 16,
   "id": "1734d2f1",
   "metadata": {},
   "outputs": [],
   "source": [
    "\n",
    "from sklearn.preprocessing import StandardScaler\n",
    "scaler = StandardScaler()\n",
    "xtrain = scaler.fit_transform(xtrain)\n",
    "xtest = scaler.transform(xtest)\n"
   ]
  },
  {
   "cell_type": "code",
   "execution_count": 18,
   "id": "e6b529a3",
   "metadata": {},
   "outputs": [
    {
     "data": {
      "text/html": [
       "<div>\n",
       "<style scoped>\n",
       "    .dataframe tbody tr th:only-of-type {\n",
       "        vertical-align: middle;\n",
       "    }\n",
       "\n",
       "    .dataframe tbody tr th {\n",
       "        vertical-align: top;\n",
       "    }\n",
       "\n",
       "    .dataframe thead th {\n",
       "        text-align: right;\n",
       "    }\n",
       "</style>\n",
       "<table border=\"1\" class=\"dataframe\">\n",
       "  <thead>\n",
       "    <tr style=\"text-align: right;\">\n",
       "      <th></th>\n",
       "      <th>0</th>\n",
       "      <th>1</th>\n",
       "      <th>2</th>\n",
       "      <th>3</th>\n",
       "      <th>4</th>\n",
       "      <th>5</th>\n",
       "      <th>6</th>\n",
       "      <th>7</th>\n",
       "    </tr>\n",
       "  </thead>\n",
       "  <tbody>\n",
       "    <tr>\n",
       "      <th>0</th>\n",
       "      <td>0</td>\n",
       "      <td>3892</td>\n",
       "      <td>55</td>\n",
       "      <td>12</td>\n",
       "      <td>0</td>\n",
       "      <td>6.95</td>\n",
       "      <td>13085.0</td>\n",
       "      <td>37</td>\n",
       "    </tr>\n",
       "    <tr>\n",
       "      <th>1</th>\n",
       "      <td>0</td>\n",
       "      <td>3052</td>\n",
       "      <td>2920</td>\n",
       "      <td>12</td>\n",
       "      <td>0</td>\n",
       "      <td>6.75</td>\n",
       "      <td>13085.0</td>\n",
       "      <td>37</td>\n",
       "    </tr>\n",
       "    <tr>\n",
       "      <th>2</th>\n",
       "      <td>0</td>\n",
       "      <td>3054</td>\n",
       "      <td>27</td>\n",
       "      <td>12</td>\n",
       "      <td>0</td>\n",
       "      <td>6.75</td>\n",
       "      <td>13085.0</td>\n",
       "      <td>37</td>\n",
       "    </tr>\n",
       "    <tr>\n",
       "      <th>3</th>\n",
       "      <td>0</td>\n",
       "      <td>1393</td>\n",
       "      <td>3236</td>\n",
       "      <td>48</td>\n",
       "      <td>0</td>\n",
       "      <td>2.1</td>\n",
       "      <td>13085.0</td>\n",
       "      <td>37</td>\n",
       "    </tr>\n",
       "    <tr>\n",
       "      <th>4</th>\n",
       "      <td>0</td>\n",
       "      <td>708</td>\n",
       "      <td>4067</td>\n",
       "      <td>24</td>\n",
       "      <td>0</td>\n",
       "      <td>1.25</td>\n",
       "      <td>13085.0</td>\n",
       "      <td>37</td>\n",
       "    </tr>\n",
       "  </tbody>\n",
       "</table>\n",
       "</div>"
      ],
      "text/plain": [
       "   0     1     2   3  4     5        6   7\n",
       "0  0  3892    55  12  0  6.95  13085.0  37\n",
       "1  0  3052  2920  12  0  6.75  13085.0  37\n",
       "2  0  3054    27  12  0  6.75  13085.0  37\n",
       "3  0  1393  3236  48  0   2.1  13085.0  37\n",
       "4  0   708  4067  24  0  1.25  13085.0  37"
      ]
     },
     "execution_count": 18,
     "metadata": {},
     "output_type": "execute_result"
    }
   ],
   "source": [
    "df.head()"
   ]
  },
  {
   "cell_type": "markdown",
   "id": "19536d3e",
   "metadata": {},
   "source": [
    "Applying Classification "
   ]
  },
  {
   "cell_type": "code",
   "execution_count": 19,
   "id": "4863bbed",
   "metadata": {},
   "outputs": [
    {
     "name": "stdout",
     "output_type": "stream",
     "text": [
      "training accuracy is  0.931526662352986\n",
      "testing accuracy is  0.9315080658973985\n"
     ]
    }
   ],
   "source": [
    "#LogisticRegression\n",
    "from sklearn.linear_model import LogisticRegression\n",
    "model_1=LogisticRegression(max_iter=3000)\n",
    "model_1.fit(xtrain,ytrain)\n",
    "from sklearn.metrics import accuracy_score\n",
    "pred_train=model_1.predict(xtrain)\n",
    "pred_test=model_1.predict(xtest)\n",
    "print(\"training accuracy is \",accuracy_score(pred_train,ytrain))\n",
    "print(\"testing accuracy is \",accuracy_score(pred_test,ytest))"
   ]
  },
  {
   "cell_type": "code",
   "execution_count": 20,
   "id": "b4ff0332",
   "metadata": {},
   "outputs": [
    {
     "name": "stdout",
     "output_type": "stream",
     "text": [
      "training accuracy is  0.9411753511209227\n",
      "testing accuracy is  0.9413279708701527\n"
     ]
    }
   ],
   "source": [
    "#applying decision tree\n",
    "from sklearn.tree import DecisionTreeClassifier\n",
    "model_2=DecisionTreeClassifier(criterion=\"entropy\", max_depth=2)\n",
    "model_2.fit(xtrain,ytrain)\n",
    "from sklearn.metrics import accuracy_score\n",
    "pred_train=model_2.predict(xtrain)\n",
    "pred_test=model_2.predict(xtest)\n",
    "print(\"training accuracy is \",accuracy_score(pred_train,ytrain))\n",
    "print(\"testing accuracy is \",accuracy_score(pred_test,ytest))\n"
   ]
  },
  {
   "cell_type": "code",
   "execution_count": 21,
   "id": "dc4d8ee1",
   "metadata": {},
   "outputs": [
    {
     "data": {
      "text/plain": [
       "[Text(0.5, 0.8333333333333334, 'x[6] <= -1.746\\nentropy = 0.662\\nsamples = 367822\\nvalue = [471, 373, 70, 757, 23, 46, 47, 644, 373, 292, 6790\\n246, 4032, 5661, 367, 54, 45, 46, 514, 165, 49, 8\\n109, 127, 1910, 25, 254, 136, 776, 78, 81, 905\\n638, 828, 55, 182, 297, 340095, 216, 37]'),\n",
       " Text(0.25, 0.5, 'x[6] <= -1.934\\nentropy = 3.105\\nsamples = 15185\\nvalue = [454, 282, 27, 637, 0, 0, 0, 0, 369, 216, 0, 246\\n3817, 5460, 154, 0, 45, 46, 485, 0, 0, 0, 0, 0\\n1, 0, 226, 36, 112, 42, 81, 835, 517, 710, 55\\n182, 78, 38, 34, 0]'),\n",
       " Text(0.125, 0.16666666666666666, 'entropy = 3.472\\nsamples = 3695\\nvalue = [454, 282, 27, 637, 0, 0, 0, 0, 369, 216, 0, 11\\n277, 42, 0, 0, 45, 0, 70, 0, 0, 0, 0, 0, 1\\n0, 226, 0, 112, 42, 0, 127, 0, 710, 0, 0, 0\\n30, 17, 0]'),\n",
       " Text(0.375, 0.16666666666666666, 'entropy = 2.165\\nsamples = 11490\\nvalue = [0, 0, 0, 0, 0, 0, 0, 0, 0, 0, 0, 235, 3540\\n5418, 154, 0, 0, 46, 415, 0, 0, 0, 0, 0, 0, 0\\n0, 36, 0, 0, 81, 708, 517, 0, 55, 182, 78, 8\\n17, 0]'),\n",
       " Text(0.75, 0.5, 'x[6] <= -0.282\\nentropy = 0.319\\nsamples = 352637\\nvalue = [17, 91, 43, 120, 23, 46, 47, 644, 4, 76, 6790, 0\\n215, 201, 213, 54, 0, 0, 29, 165, 49, 8, 109\\n127, 1909, 25, 28, 100, 664, 36, 0, 70, 121, 118\\n0, 0, 219, 340057, 182, 37]'),\n",
       " Text(0.625, 0.16666666666666666, 'entropy = 0.658\\nsamples = 113389\\nvalue = [0, 91, 0, 120, 0, 46, 0, 644, 4, 76, 6117, 0\\n173, 201, 61, 0, 0, 0, 29, 165, 49, 0, 0, 0\\n1909, 0, 0, 100, 612, 0, 0, 0, 47, 118, 0, 0\\n38, 102756, 33, 0]'),\n",
       " Text(0.875, 0.16666666666666666, 'entropy = 0.096\\nsamples = 239248\\nvalue = [17, 0, 43, 0, 23, 0, 47, 0, 0, 0, 673, 0, 42\\n0, 152, 54, 0, 0, 0, 0, 0, 8, 109, 127, 0, 25\\n28, 0, 52, 36, 0, 70, 74, 0, 0, 0, 181, 237301\\n149, 37]')]"
      ]
     },
     "execution_count": 21,
     "metadata": {},
     "output_type": "execute_result"
    },
    {
     "data": {
      "image/png": "[encoded data removed]",
      "text/plain": [
       "<Figure size 432x288 with 1 Axes>"
      ]
     },
     "metadata": {
      "needs_background": "light"
     },
     "output_type": "display_data"
    }
   ],
   "source": [
    "from sklearn.tree import plot_tree\n",
    "plot_tree(model_2)\n"
   ]
  },
  {
   "cell_type": "code",
   "execution_count": 22,
   "id": "7ae041bc",
   "metadata": {},
   "outputs": [
    {
     "name": "stdout",
     "output_type": "stream",
     "text": [
      "training accuracy is  0.9201706260093198\n",
      "testing accuracy is  0.9202354747238944\n"
     ]
    }
   ],
   "source": [
    "from sklearn.linear_model import Perceptron\n",
    "model_3=Perceptron()\n",
    "model_3.fit(xtrain,ytrain)\n",
    "pred_train=model_3.predict(xtrain)\n",
    "pred_test=model_3.predict(xtest)\n",
    "print(\"training accuracy is \",accuracy_score(pred_train,ytrain))\n",
    "print(\"testing accuracy is \",accuracy_score(pred_test,ytest))\n"
   ]
  },
  {
   "cell_type": "markdown",
   "id": "c436726a",
   "metadata": {},
   "source": [
    "Apply Hyperperameter Tunning"
   ]
  },
  {
   "cell_type": "code",
   "execution_count": 24,
   "id": "fa4b465b",
   "metadata": {},
   "outputs": [
    {
     "name": "stdout",
     "output_type": "stream",
     "text": [
      "Logistic Regression: best hyperparameters:  {'C': 1}\n",
      "test accuracy:  0.9315080658973985\n",
      "Decision Tree: best hyperparameters:  {'max_depth': 8, 'min_samples_split': 4}\n",
      "test accuracy:  0.98051878025108\n",
      "Perceptron: best hyperparameters:  {'alpha': 0.0001}\n",
      "test accuracy:  0.9202354747238944\n"
     ]
    }
   ],
   "source": [
    "from sklearn.model_selection import GridSearchCV\n",
    "\n",
    "# create a dictionary of hyperparameters for each model\n",
    "params_lr = {'C': [0.01, 0.1, 1]}\n",
    "params_dt = {'max_depth': [2, 4, 6, 8], 'min_samples_split': [2, 4, 6, 8]}\n",
    "params_p = {'alpha': [0.0001, 0.001, 0.01, 0.1, 1]}\n",
    "\n",
    "# create the models\n",
    "lr = LogisticRegression(max_iter=3000)\n",
    "dt = DecisionTreeClassifier()\n",
    "p = Perceptron()\n",
    "\n",
    "# create the GridSearchCV objects\n",
    "grid_lr = GridSearchCV(lr, params_lr, cv=5)\n",
    "grid_dt = GridSearchCV(dt, params_dt, cv=5)\n",
    "grid_p = GridSearchCV(p, params_p, cv=5)\n",
    "\n",
    "# fit the models to the training data\n",
    "grid_lr.fit(xtrain, ytrain)\n",
    "grid_dt.fit(xtrain, ytrain)\n",
    "grid_p.fit(xtrain, ytrain)\n",
    "\n",
    "# print the best hyperparameters and test accuracy for each model\n",
    "print(\"Logistic Regression: best hyperparameters: \", grid_lr.best_params_)\n",
    "print(\"test accuracy: \", grid_lr.score(xtest, ytest))\n",
    "\n",
    "print(\"Decision Tree: best hyperparameters: \", grid_dt.best_params_)\n",
    "print(\"test accuracy: \", grid_dt.score(xtest, ytest))\n",
    "\n",
    "print(\"Perceptron: best hyperparameters: \", grid_p.best_params_)\n",
    "print(\"test accuracy: \", grid_p.score(xtest, ytest))\n"
   ]
  },
  {
   "cell_type": "code",
   "execution_count": 26,
   "id": "0053a2f9",
   "metadata": {},
   "outputs": [
    {
     "data": {
      "image/png": "[encoded data removed]",
      "text/plain": [
       "<Figure size 432x288 with 1 Axes>"
      ]
     },
     "metadata": {
      "needs_background": "light"
     },
     "output_type": "display_data"
    }
   ],
   "source": [
    "import matplotlib.pyplot as plt\n",
    "\n",
    "# Define the model names and their corresponding test accuracy scores\n",
    "models = ['Logistic Regression', 'Decision Tree', 'Perceptron']\n",
    "accuracies = [0.9315080658973985, 0.98051878025108, 0.9202354747238944]\n",
    "\n",
    "# Create a bar chart\n",
    "plt.bar(models, accuracies)\n",
    "\n",
    "# Add chart title and axis labels\n",
    "plt.title('Model Test Accuracies')\n",
    "plt.xlabel('Model')\n",
    "plt.ylabel('Accuracy')\n",
    "\n",
    "# Display the chart\n",
    "plt.show()\n"
   ]
  },
  {
   "cell_type": "code",
   "execution_count": null,
   "id": "f8a86db3",
   "metadata": {},
   "outputs": [],
   "source": []
  },
  {
   "cell_type": "code",
   "execution_count": null,
   "id": "cbbf956c",
   "metadata": {},
   "outputs": [],
   "source": []
  },
  {
   "cell_type": "code",
   "execution_count": null,
   "id": "357110bb",
   "metadata": {},
   "outputs": [],
   "source": []
  }
 ],
 "metadata": {
  "kernelspec": {
   "display_name": "Python 3 (ipykernel)",
   "language": "python",
   "name": "python3"
  },
  "language_info": {
   "codemirror_mode": {
    "name": "ipython",
    "version": 3
   },
   "file_extension": ".py",
   "mimetype": "text/x-python",
   "name": "python",
   "nbconvert_exporter": "python",
   "pygments_lexer": "ipython3",
   "version": "3.10.0"
  }
 },
 "nbformat": 4,
 "nbformat_minor": 5
}
